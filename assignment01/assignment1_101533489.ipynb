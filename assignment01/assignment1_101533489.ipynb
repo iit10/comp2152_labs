{
 "cells": [
  {
   "cell_type": "code",
   "execution_count": null,
   "metadata": {
    "vscode": {
     "languageId": "plaintext"
    }
   },
   "outputs": [],
   "source": [
    "\"\"\"\n",
    "Author: Omar Romero\n",
    "Assignment: #1\n",
    "\"\"\"\n",
    "\n",
    "gym_member = \"Alex Alliton\"\n",
    "preferred_weight_kg = 20.5\n",
    "highest_reps = 25\n",
    "membership_active = True\n",
    "\n",
    "workout_stats = {\n",
    "    \"Alex\": (30, 45, 20),\n",
    "    \"Jamie\": (25, 50, 15),\n",
    "    \"Taylor\": (40, 30, 35)\n",
    "}\n",
    "\n",
    "for friend, minutes in workout_stats.items():\n",
    "    total_minutes = sum(minutes)\n",
    "    workout_stats[f\"{friend}_Total\"] = total_minutes\n",
    "\n",
    "workout_list = [list(minutes) for friend, minutes in workout_stats.items() if \"Total\" not in friend]\n",
    "\n",
    "yoga_running_minutes = [row[:2] for row in workout_list]\n",
    "print(\"Yoga and Running minutes:\", yoga_running_minutes)\n",
    "\n",
    "weightlifting_last_two = [row[2] for row in workout_list[-2:]]\n",
    "print(\"Weightlifting minutes (last two friends):\", weightlifting_last_two)\n",
    "\n",
    "for friend, total in workout_stats.items():\n",
    "    if \"Total\" in friend and total >= 120:\n",
    "        print(f\"Great job staying active, {friend.split('_')[0]}!\")\n",
    "\n",
    "friend_name = input(\"Enter a friend's name: \")\n",
    "if friend_name in workout_stats:\n",
    "    minutes = workout_stats[friend_name]\n",
    "    total = workout_stats.get(f\"{friend_name}_Total\", sum(minutes))\n",
    "    print(f\"{friend_name}'s workout minutes: Yoga: {minutes[0]}, Running: {minutes[1]}, Weightlifting: {minutes[2]}, Total: {total}\")\n",
    "else:\n",
    "    print(f\"Friend {friend_name} not found in the records.\")\n",
    "\n",
    "total_minutes = {friend: total for friend, total in workout_stats.items() if \"Total\" in friend}\n",
    "highest_friend = max(total_minutes, key=total_minutes.get)\n",
    "lowest_friend = min(total_minutes, key=total_minutes.get)\n",
    "\n",
    "print(f\"Friend with highest workout minutes: {highest_friend.split('_')[0]}\")\n",
    "print(f\"Friend with lowest workout minutes: {lowest_friend.split('_')[0]}\")\n",
    "\n"
   ]
  }
 ],
 "metadata": {
  "language_info": {
   "name": "python"
  }
 },
 "nbformat": 4,
 "nbformat_minor": 2
}
